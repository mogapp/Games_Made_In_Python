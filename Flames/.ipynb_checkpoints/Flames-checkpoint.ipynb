{
 "cells": [
  {
   "cell_type": "markdown",
   "metadata": {},
   "source": [
    "# Flames"
   ]
  },
  {
   "cell_type": "code",
   "execution_count": 2,
   "metadata": {},
   "outputs": [
    {
     "name": "stdout",
     "output_type": "stream",
     "text": [
      "Enter the name of player1: Simran\n",
      "Enter the name of player2: Rahul\n",
      "simn hul\n",
      "simnhul\n",
      "['Enemy']\n"
     ]
    }
   ],
   "source": [
    "p1name=input(\"Enter the name of player1: \")\n",
    "p1name=p1name.lower()\n",
    "p1name=p1name.replace(\" \",\"\")\n",
    "\n",
    "p2name=input(\"Enter the name of player2: \")\n",
    "p2name=p2name.lower()\n",
    "p2name=p2name.replace(\" \",\"\")\n",
    "\n",
    "for i in p1name:\n",
    "    for j in p2name:\n",
    "        if i==j:\n",
    "            p1name=p1name.replace(i,\"\")\n",
    "            p2name=p2name.replace(j,\"\")\n",
    "\n",
    "\n",
    "print(p1name,p2name)\n",
    "last=p1name+p2name\n",
    "print(last)\n",
    "l=len(last)\n",
    "list1=[\"Friends\",\"Love\",\"Affection\",\"Marriage\",\"Enemy\",\"Siblings\"]\n",
    "while len(list1)>1:\n",
    "    sp_index=(l%len(list1))-1\n",
    "    if sp_index>=0:\n",
    "        right=list1[sp_index+1:]\n",
    "        left=list1[:sp_index]\n",
    "        list1=right + left\n",
    "    else:\n",
    "        list1=list1[:len(list1)-1]\n",
    "\n",
    "print(list1)"
   ]
  },
  {
   "cell_type": "code",
   "execution_count": null,
   "metadata": {},
   "outputs": [],
   "source": []
  }
 ],
 "metadata": {
  "kernelspec": {
   "display_name": "Python 3",
   "language": "python",
   "name": "python3"
  },
  "language_info": {
   "codemirror_mode": {
    "name": "ipython",
    "version": 3
   },
   "file_extension": ".py",
   "mimetype": "text/x-python",
   "name": "python",
   "nbconvert_exporter": "python",
   "pygments_lexer": "ipython3",
   "version": "3.7.4"
  }
 },
 "nbformat": 4,
 "nbformat_minor": 4
}
