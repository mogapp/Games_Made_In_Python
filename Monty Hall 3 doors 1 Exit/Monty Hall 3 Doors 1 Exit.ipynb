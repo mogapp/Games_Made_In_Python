{
 "cells": [
  {
   "cell_type": "markdown",
   "metadata": {},
   "source": [
    "# Monty Hall 3 Doors 1 Exit"
   ]
  },
  {
   "cell_type": "markdown",
   "metadata": {},
   "source": [
    "### In these we have three gates to come out of the monte hall,\n",
    "### now there is a suspense in this is that only from one door one can come out of the door, \n",
    "### now you have to choose the gate from which you want to come out from this. \n",
    "### If you want to change your answer you can otherwise you can continue with your answer.\n",
    "### This will continue for 5 times.\\n\\n door1: 0, door2: 1, door3: 2"
   ]
  },
  {
   "cell_type": "code",
   "execution_count": 1,
   "metadata": {},
   "outputs": [
    {
     "name": "stdout",
     "output_type": "stream",
     "text": [
      "In these we have three gates to come out of the monte hall, now there is a suspense in this is that only       from one door one can come out of the door, now you have to choose the gate from which you want to come out from       this. If you want to change your answer you can otherwise you can continue with your answer. This will continue for       5 times.\n",
      "\n",
      " door1: 0, door2: 1, door3: 2\n",
      "\n",
      " \n",
      "\n",
      "Enter your door: 0\n",
      "See door  2  does not any exit.\n",
      "Do you want to swap your answer y/n? y\n",
      "Your answer is correct after swapping      swap:  1\n",
      "\n",
      "Enter your door: 2\n",
      "See door  0  does not any exit.\n",
      "Do you want to swap your answer y/n? n\n",
      "Your answer is wrong.\n",
      "\n",
      "Enter your door: 1\n",
      "See door  2  does not any exit.\n",
      "Do you want to swap your answer y/n? y\n",
      "Your answer is correct after swapping      swap:  2\n",
      "\n",
      "Enter your door: 1\n",
      "See door  1  does not any exit.\n",
      "Do you want to swap your answer y/n? n\n",
      "Your answer is wrong.\n",
      "\n",
      "Enter your door: 0\n",
      "See door  2  does not any exit.\n",
      "Do you want to swap your answer y/n? y\n",
      "Your answer is correct after swapping      swap:  3\n",
      "Swap:   3\n",
      "Unswap:  0\n"
     ]
    }
   ],
   "source": [
    "import random\n",
    "\n",
    "print(\"In these we have three gates to come out of the monte hall, now there is a suspense in this is that only \\\n",
    "      from one door one can come out of the door, now you have to choose the gate from which you want to come out from \\\n",
    "      this. If you want to change your answer you can otherwise you can continue with your answer. This will continue for \\\n",
    "      5 times.\\n\\n door1: 0, door2: 1, door3: 2\\n\\n \")\n",
    "doors=[0,1,2]\n",
    "swap=0\n",
    "unswap=0\n",
    "for i in range(5):\n",
    "    \n",
    "    exit_door=int(random.choice(doors))\n",
    "    selected_door=int(input(\"\\nEnter your door: \"))\n",
    "    a=doors.index(selected_door)\n",
    "    b=doors.index(exit_door)\n",
    "    if (a+b==1):\n",
    "        swap_index=2\n",
    "    elif a+b==2:\n",
    "        swap_index=1\n",
    "    else:\n",
    "        swap_index=0\n",
    "    print(\"See door \",swap_index,\" does not any exit.\")\n",
    "    ch=input(\"Do you want to swap your answer y/n? \")\n",
    "    a=doors.index(selected_door)\n",
    "    b=doors.index(swap_index)\n",
    "    arr=[a,b]\n",
    "    for i in range(0,3):\n",
    "        if i not in arr:\n",
    "            d=i\n",
    "            break\n",
    "    if ch=='y':\n",
    "        temp=doors[selected_door]\n",
    "        doors[selected_door]=doors[d]\n",
    "        doors[d]=temp\n",
    "        if(doors[selected_door]==exit_door):\n",
    "            swap=swap+1\n",
    "            print(\"Your answer is correct after swapping\",\"     swap: \",swap)\n",
    "        else:\n",
    "            print(\"Your answer is wrong.\")\n",
    "                \n",
    "    else:\n",
    "        if(doors[selected_door]==exit_door):\n",
    "            unswap=unswap+1\n",
    "            print(\"Your answer is correct without swapping\",\"     unswap: \",unswap)\n",
    "            \n",
    "        else:\n",
    "            print(\"Your answer is wrong.\")\n",
    "\n",
    "print(\"Swap:  \",swap)\n",
    "print(\"Unswap: \",unswap)"
   ]
  },
  {
   "cell_type": "code",
   "execution_count": null,
   "metadata": {},
   "outputs": [],
   "source": []
  }
 ],
 "metadata": {
  "kernelspec": {
   "display_name": "Python 3",
   "language": "python",
   "name": "python3"
  },
  "language_info": {
   "codemirror_mode": {
    "name": "ipython",
    "version": 3
   },
   "file_extension": ".py",
   "mimetype": "text/x-python",
   "name": "python",
   "nbconvert_exporter": "python",
   "pygments_lexer": "ipython3",
   "version": "3.7.4"
  }
 },
 "nbformat": 4,
 "nbformat_minor": 4
}
