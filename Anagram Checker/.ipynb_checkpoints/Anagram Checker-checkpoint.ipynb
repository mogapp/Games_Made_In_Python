{
 "cells": [
  {
   "cell_type": "markdown",
   "metadata": {},
   "source": [
    "# Anagram Checker"
   ]
  },
  {
   "cell_type": "markdown",
   "metadata": {},
   "source": [
    "### Anagram is a word, phrase, or name formed by rearranging the letters of another, such as spar, formed from rasp"
   ]
  },
  {
   "cell_type": "code",
   "execution_count": 1,
   "metadata": {},
   "outputs": [
    {
     "name": "stdout",
     "output_type": "stream",
     "text": [
      "Enter the first word: dormitory\n",
      "Enter the word which according to you is its anagram: dirtyroom\n",
      "['d', 'i', 'm', 'o', 'o', 'r', 'r', 't', 'y']\n",
      "['d', 'i', 'm', 'o', 'o', 'r', 'r', 't', 'y']\n",
      "The two words are the anagrams of each other.\n"
     ]
    }
   ],
   "source": [
    "a=input(\"Enter the first word: \")\n",
    "b=input(\"Enter the word which according to you is its anagram: \")\n",
    "sorted_a=sorted(a)\n",
    "sorted_b=sorted(b)\n",
    "print(sorted_a)\n",
    "print(sorted_b)\n",
    "if sorted_a==sorted_b:\n",
    "    print(\"The two words are the anagrams of each other.\")\n",
    "else:\n",
    "    print(\"The the two words are not the anagram of each other.\")"
   ]
  },
  {
   "cell_type": "code",
   "execution_count": null,
   "metadata": {},
   "outputs": [],
   "source": []
  }
 ],
 "metadata": {
  "kernelspec": {
   "display_name": "Python 3",
   "language": "python",
   "name": "python3"
  },
  "language_info": {
   "codemirror_mode": {
    "name": "ipython",
    "version": 3
   },
   "file_extension": ".py",
   "mimetype": "text/x-python",
   "name": "python",
   "nbconvert_exporter": "python",
   "pygments_lexer": "ipython3",
   "version": "3.7.4"
  }
 },
 "nbformat": 4,
 "nbformat_minor": 4
}
