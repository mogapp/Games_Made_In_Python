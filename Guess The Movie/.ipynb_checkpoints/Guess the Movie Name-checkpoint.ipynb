{
 "cells": [
  {
   "cell_type": "markdown",
   "metadata": {},
   "source": [
    "# Guess the Movie Name"
   ]
  },
  {
   "cell_type": "code",
   "execution_count": 1,
   "metadata": {},
   "outputs": [
    {
     "name": "stdout",
     "output_type": "stream",
     "text": [
      "Player 1, please enter your name:  Simran\n",
      "Player 2, please enter your name:  Rahul\n",
      "* * * * * * * * * * * * \n",
      " Simran Its your turn now.\n",
      "Guess the movie name or any letter:  k\n",
      "Please select any other alphabet.\n",
      "Guess the movie name or any letter:  m\n",
      "Please select any other alphabet.\n",
      "Guess the movie name or any letter:  A\n",
      "Please select any other alphabet.\n",
      "Guess the movie name or any letter:  t\n",
      "You are correct.\n",
      "hey\n",
      "If you know the correct movie name then press 1 otherwise 0 to know with different letters: 1\n",
      "Enter the movie nameThree Idiots\n",
      "You are correct, this is the right movie name \n",
      "Do you want to play further or want to quit, if want to quit press 11\n",
      "Simran Wins the game with : 1  points\n",
      "Thank you for playing \n",
      " Have a nice day\n"
     ]
    }
   ],
   "source": [
    "import random\n",
    "def guess(n):\n",
    "    print(\"hey\")\n",
    "def play():\n",
    "    movie=[\"Kabir singh\",\"Parmanu\",\"Taare zameen par\",\"Hum sath sath hai\",\"Hum apke hai kon\",\"Sholay\",\"Mangal\",\\\n",
    "           \"Vivah\",\"Avengers\",\"Manikarnika\",\"Dangal\",\"Three Idiots\",\"Tarzan\"]\n",
    "    \n",
    "    p1name=input(\"Player 1, please enter your name:  \")\n",
    "    p2name=input(\"Player 2, please enter your name:  \")\n",
    "    turn=0\n",
    "    pp1=0\n",
    "    pp2=0\n",
    "    if(turn%2==0):\n",
    "        picked_movie=random.choice(movie)\n",
    "        for i in picked_movie:\n",
    "                print(\"*\",end=\" \")\n",
    "\n",
    "        print(\"\\n\",p1name,\"Its your turn now.\")\n",
    "        while True:\n",
    "            guess_letter=input(\"Guess the movie name or any letter:  \")\n",
    "            if guess_letter in picked_movie:\n",
    "                print(\"You are correct.\")\n",
    "                guess(guess_letter)\n",
    "                k=input(\"If you know the correct movie name then press 1 otherwise 0 to know with different letters: \")\n",
    "                if k==\"1\":\n",
    "                    name=input(\"Enter the movie name\")\n",
    "                    if name==picked_movie:\n",
    "                        print(\"You are correct, this is the right movie name \")\n",
    "                        pp1=pp1+1\n",
    "                        break\n",
    "            else:\n",
    "                print(\"Please select any other alphabet.\")\n",
    "        j=input(\"Do you want to play further or want to quit, if want to quit press 1\")\n",
    "        if j==1:\n",
    "            return 0\n",
    "        else:\n",
    "             pass\n",
    "    else:\n",
    "        picked_movie=random.choice(movie)\n",
    "        for i in picked_movie:\n",
    "                print(\"*\",end=\" \")\n",
    "\n",
    "        print(\"\\n\",p2name,\"Its your turn now.\")\n",
    "        while True:\n",
    "            guess_letter=input(\"Guess the movie name or any letter:  \")\n",
    "            if guess_letter in picked_movie:\n",
    "                print(\"You are correct.\")\n",
    "                guess(guess_letter)\n",
    "                k=input(\"If you know the correct movie name then press 1 otherwise 0 to know with different letters\")\n",
    "                if k==1:\n",
    "                    name=input(\"Enter the movie name\")\n",
    "                    if name==picked_movie:\n",
    "                        print(\"You are correct, this is the right movie name \")\n",
    "                        pp2=pp2+1\n",
    "            else:\n",
    "                print(\"Please select any other alphabet.\")\n",
    "        j=input(\"Do you want to play further or want to quit, if want to quit press 1: \")\n",
    "        if j==1:\n",
    "           return 0\n",
    "        else:\n",
    "            pass\n",
    "\n",
    "    if(pp1>pp2):\n",
    "        print(p1name, \"Wins the game with :\",pp1,\" points\")\n",
    "\n",
    "    else:\n",
    "        print(p2name, \"Wins the game with :\",pp2,\" points\")\n",
    "    print(\"Thank you for playing\",\"\\n\",\"Have a nice day\")\n",
    "                \n",
    "play()\n"
   ]
  },
  {
   "cell_type": "code",
   "execution_count": null,
   "metadata": {},
   "outputs": [],
   "source": []
  }
 ],
 "metadata": {
  "kernelspec": {
   "display_name": "Python 3",
   "language": "python",
   "name": "python3"
  },
  "language_info": {
   "codemirror_mode": {
    "name": "ipython",
    "version": 3
   },
   "file_extension": ".py",
   "mimetype": "text/x-python",
   "name": "python",
   "nbconvert_exporter": "python",
   "pygments_lexer": "ipython3",
   "version": "3.7.4"
  }
 },
 "nbformat": 4,
 "nbformat_minor": 4
}
