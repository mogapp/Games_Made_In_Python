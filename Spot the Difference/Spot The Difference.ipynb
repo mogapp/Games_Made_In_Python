{
 "cells": [
  {
   "cell_type": "markdown",
   "metadata": {},
   "source": [
    "# Spot The Difference"
   ]
  },
  {
   "cell_type": "markdown",
   "metadata": {},
   "source": [
    "### In this we are given with the random word of list everytime containing a sequence between them and one letter is not following that sequence. We just have to find that Letter.  "
   ]
  },
  {
   "cell_type": "code",
   "execution_count": 2,
   "metadata": {},
   "outputs": [
    {
     "name": "stdout",
     "output_type": "stream",
     "text": [
      "CARD 1:  ['D', 'k', 'h', 'g', 'T']\n",
      "CARD 2:  ['n', 'k', 'W', 'v', 'r']\n",
      "Spot the difference: v\n",
      "Try again later\n"
     ]
    }
   ],
   "source": [
    "import string\n",
    "import random\n",
    "\n",
    "symbols=[]\n",
    "symbols=list(string.ascii_letters)\n",
    "card1=[0]*5\n",
    "card2=[0]*5\n",
    "pos1=random.randint(0,4)\n",
    "pos2=random.randint(0,4)\n",
    "\n",
    "samesymbol=random.choice(symbols)\n",
    "\n",
    "symbols.remove(samesymbol)\n",
    "\n",
    "if(pos1==pos2):\n",
    "    card1[pos1]=samesymbol\n",
    "    card2[pos1]=samesymbol\n",
    "else:\n",
    "    card1[pos1]=samesymbol\n",
    "    card2[pos2]=samesymbol\n",
    "    card1[pos2]=random.choice(symbols)\n",
    "    symbols.remove(card1[pos2])\n",
    "    card2[pos1]=random.choice(symbols)\n",
    "    symbols.remove(card2[pos1])\n",
    "i=0\n",
    "while(i<5):\n",
    "    if(i!=pos1 and  i!=pos2):\n",
    "        card1[i]=random.choice(symbols)\n",
    "        symbols.remove(card1[i])\n",
    "        card2[i]=random.choice(symbols)\n",
    "        symbols.remove(card2[i])\n",
    "\n",
    "    i=i+1\n",
    "print(\"CARD 1: \",card1)\n",
    "print(\"CARD 2: \",card2)\n",
    "n=input(\"Spot the difference: \")\n",
    "if(n==samesymbol):\n",
    "    print(\"You are correct \")\n",
    "\n",
    "else:\n",
    "    print(\"Try again later\")\n"
   ]
  },
  {
   "cell_type": "code",
   "execution_count": null,
   "metadata": {},
   "outputs": [],
   "source": []
  }
 ],
 "metadata": {
  "kernelspec": {
   "display_name": "Python 3",
   "language": "python",
   "name": "python3"
  },
  "language_info": {
   "codemirror_mode": {
    "name": "ipython",
    "version": 3
   },
   "file_extension": ".py",
   "mimetype": "text/x-python",
   "name": "python",
   "nbconvert_exporter": "python",
   "pygments_lexer": "ipython3",
   "version": "3.7.4"
  }
 },
 "nbformat": 4,
 "nbformat_minor": 4
}
