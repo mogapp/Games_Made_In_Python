{
 "cells": [
  {
   "cell_type": "markdown",
   "metadata": {},
   "source": [
    "# Jumbled Words Game"
   ]
  },
  {
   "cell_type": "markdown",
   "metadata": {},
   "source": [
    "### In this game you are given the jumbled words you have to guess the word."
   ]
  },
  {
   "cell_type": "code",
   "execution_count": 1,
   "metadata": {},
   "outputs": [
    {
     "name": "stdout",
     "output_type": "stream",
     "text": [
      "Please enter the name of player 1: Simran\n",
      "Please enter the name of player 2: Rahul\n",
      "\n",
      "  ' ocektr  ' \n",
      " \n",
      "\n",
      "Simran Your turn \n",
      "What is in your mind rocket\n",
      "Your answer is correct \n",
      "Your score is :  1\n",
      "If you want to continue then press 1 otherwise press 0 to quit: 1\n",
      "\n",
      "  ' oebknoto  ' \n",
      " \n",
      "\n",
      "Rahul Your turn \n",
      "What is in your mind notebook\n",
      "Your answer is correct \n",
      "Your score is :  1\n",
      "If you want to continue then press 1 otherwise press 0 to quit: 0\n",
      "Simran Your points is:  1\n",
      "Rahul Your points is:  1\n",
      "Rahul , is WINNER \n",
      "Thank you very much for playing. \n",
      "Have a nice day\n"
     ]
    }
   ],
   "source": [
    "import random\n",
    "\n",
    "def choose():\n",
    "    words=['imagine','rocket','mindset','mobile','laptop','keyboard','notebook','mouse','printer','computer','python',\\\n",
    "           'plate','flavour','icecream','pasta','macroni']\n",
    "    pick=random.choice(words)\n",
    "    return pick\n",
    "\n",
    "def jumble(wb):\n",
    "    c=\"\".join(random.sample(wb,len(wb)))\n",
    "    return c\n",
    "\n",
    "def thank(p1,p2,m1,m2):\n",
    "    print(p1,\"Your points is: \",m1)\n",
    "    print(p2,\"Your points is: \",m2)\n",
    "    if(m1>m2):\n",
    "        print(p1,\", is WINNER \")\n",
    "    else:\n",
    "        print(p2,\", is WINNER \")\n",
    "    print(\"Thank you very much for playing. \")\n",
    "    print(\"Have a nice day\")\n",
    "\n",
    "def play():\n",
    "    p1name=input(\"Please enter the name of player 1: \")\n",
    "    p2name=input(\"Please enter the name of player 2: \")\n",
    "    pp1=0\n",
    "    pp2=0\n",
    "    turn=2\n",
    "    while(1):\n",
    "        picked_word=choose()\n",
    "        qn=jumble(picked_word)\n",
    "        print('\\n',\" '\",qn,\" '\",\"\\n\",\"\\n\")\n",
    "        if(turn%2==0):\n",
    "            print(p1name,\"Your turn \")\n",
    "            ans=input(\"What is in your mind \")\n",
    "            if ans==picked_word:\n",
    "                print(\"Your answer is correct \")\n",
    "                \n",
    "                pp1=pp1+1\n",
    "                print(\"Your score is : \",pp1)\n",
    "            else:\n",
    "                print(\"Better luck next time\")\n",
    "                print(\"Write answer is \",picked_word)\n",
    "            c=input(\"If you want to continue then press 1 otherwise press 0 to quit: \")\n",
    "            if c=='0' :\n",
    "                thank(p1name,p2name,pp1,pp2)\n",
    "                break\n",
    "        else:\n",
    "            print(p2name,\"Your turn \")\n",
    "            ans=input(\"What is in your mind \")\n",
    "            if ans==picked_word:\n",
    "                print(\"Your answer is correct \")\n",
    "                \n",
    "                pp2=pp2+1\n",
    "                print(\"Your score is : \",pp2)\n",
    "            else:\n",
    "                print(\"Better luck next time\")\n",
    "                print(\"Write answer is \",picked_word)\n",
    "            c = input(\"If you want to continue then press 1 otherwise press 0 to quit: \")\n",
    "            \n",
    "            if c=='0' :\n",
    "                thank(p1name,p2name,pp1,pp2)\n",
    "                break\n",
    "        turn=turn+1\n",
    "\n",
    "\n",
    "play()\n",
    "            \n"
   ]
  },
  {
   "cell_type": "code",
   "execution_count": null,
   "metadata": {},
   "outputs": [],
   "source": []
  }
 ],
 "metadata": {
  "kernelspec": {
   "display_name": "Python 3",
   "language": "python",
   "name": "python3"
  },
  "language_info": {
   "codemirror_mode": {
    "name": "ipython",
    "version": 3
   },
   "file_extension": ".py",
   "mimetype": "text/x-python",
   "name": "python",
   "nbconvert_exporter": "python",
   "pygments_lexer": "ipython3",
   "version": "3.7.4"
  }
 },
 "nbformat": 4,
 "nbformat_minor": 4
}
