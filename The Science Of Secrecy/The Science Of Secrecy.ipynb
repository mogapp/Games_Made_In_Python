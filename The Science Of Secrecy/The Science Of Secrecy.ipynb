{
 "cells": [
  {
   "cell_type": "markdown",
   "metadata": {},
   "source": [
    "# The Science Of Secrecy"
   ]
  },
  {
   "cell_type": "markdown",
   "metadata": {},
   "source": [
    "### In this we are converting the text in a code language that only selected person can understand instead of all."
   ]
  },
  {
   "cell_type": "code",
   "execution_count": 6,
   "metadata": {},
   "outputs": [
    {
     "name": "stdout",
     "output_type": "stream",
     "text": [
      "Original file is: \n",
      "\n",
      "Hey its simran, You are required to in form that you should attend meeting this day otherwise you will be fined.\n",
      "Thankyou.\n",
      "Have a nice day.\n",
      "\n",
      "\n",
      "\n",
      "\n",
      "After Applying Science of Secrecy: \n",
      "\n",
      "Gdx hsr rhlqZm, Xnt Zqd qdpthqdc sn hm enql sgZs xnt rgntkc Zssdmc lddshmf sghr cZx nsgdqvhrd xnt vhkk ad ehmdc.\n",
      "SgZmjxnt.\n",
      "GZud Z mhbd cZx.\n"
     ]
    }
   ],
   "source": [
    "import string\n",
    "\n",
    "words=list(string.ascii_letters)\n",
    "dict={}\n",
    "file=open(\"yes.txt\",\"w\")\n",
    "data=\"\"\n",
    "for i in range(0,len(words)):\n",
    "    dict[words[i]]=words[i-1]\n",
    "\n",
    "with open(\"simmi.txt\") as f:\n",
    "    d=f.read()\n",
    "    print(\"Original file is: \")\n",
    "    print()\n",
    "    print(d)\n",
    "    c=list(d)\n",
    "    for i in range(0,len(c)):\n",
    "        \n",
    "        if not c:\n",
    "            print(\"End of file\")\n",
    "            break\n",
    "        if c[i] in dict:\n",
    "            data=dict[c[i]]\n",
    "        else:\n",
    "            data=c[i]\n",
    "        file.write(data)\n",
    "\n",
    "file.close()\n",
    "file=open(\"yes.txt\")\n",
    "a=file.read()\n",
    "print('\\n\\n\\n')\n",
    "print(\"After Applying Science of Secrecy: \\n\")\n",
    "print(a)\n",
    "f.close()\n"
   ]
  },
  {
   "cell_type": "code",
   "execution_count": null,
   "metadata": {},
   "outputs": [],
   "source": []
  }
 ],
 "metadata": {
  "kernelspec": {
   "display_name": "Python 3",
   "language": "python",
   "name": "python3"
  },
  "language_info": {
   "codemirror_mode": {
    "name": "ipython",
    "version": 3
   },
   "file_extension": ".py",
   "mimetype": "text/x-python",
   "name": "python",
   "nbconvert_exporter": "python",
   "pygments_lexer": "ipython3",
   "version": "3.7.4"
  }
 },
 "nbformat": 4,
 "nbformat_minor": 4
}
